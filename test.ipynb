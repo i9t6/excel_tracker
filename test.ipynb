{
 "cells": [
  {
   "cell_type": "code",
   "execution_count": 1,
   "metadata": {},
   "outputs": [
    {
     "name": "stdout",
     "output_type": "stream",
     "text": [
      "El nuevo registro es {'customer': '2', 'project': '3', 'category': 'RFP', 'cat_effort': 3, 'complexity': 'High', 'com_effort': 3, 'effort': 9, 'status': 'WiP', 'status_effort': 1, 'region': None, 'tsa': None, 'who': None, 'total_hrs': 9}\n",
      "ok se actualizo excel\n"
     ]
    }
   ],
   "source": [
    "from excel_db import *\n",
    "\n",
    "new = add_gve_record(sample)\n",
    "\n",
    "print(new)\n",
    "\n",
    "\n"
   ]
  },
  {
   "cell_type": "code",
   "execution_count": 2,
   "metadata": {},
   "outputs": [
    {
     "name": "stdout",
     "output_type": "stream",
     "text": [
      "El nuevo registro es {'customer': 'cus1', 'project': 'pro1', 'category': 'RFI', 'cat_effort': 3, 'complexity': 'Medium', 'com_effort': 2, 'effort': 6, 'status': 'WiP', 'status_effort': 1, 'region': 'AMER', 'tsa': 'FQ', 'user': 'GVE', 'total_hrs': 6}\n",
      "('Customer', 'Project', 'Category', 'Cat_Effort', 'Complexity', 'Com_Effort', 'Total_Effort', 'Status', 'Status_Radio', 'Region', 'TSA', 'Who', 'Total_Hrs', None, None, None, None)\n",
      "('Scale', 'Cases', 'Scale', None, None, None, 3, 'WiP', '=IFERROR(VLOOKUP(H2,#REF!,2,FALSE),\"\")', None, 'AH', 'Queue', '=IFERROR(I2*G2,\"\")', None, None, None, None)\n",
      "('Scale', 'Cases', 'Scale', None, None, None, 3, 'WiP', '=IFERROR(VLOOKUP(H3,#REF!,2,FALSE),\"\")', None, 'FQ', 'Queue', '=IFERROR(I3*G3,\"\")', None, None, None, None)\n",
      "('Alloha', 'DWDM / RON', 'Advanced Engagement', 2, 'High', 3, 6, 'WiP', 1, 'Amer', 'AH', 'GVE', '=IFERROR(I4*G4,\"\")', None, None, None, None)\n",
      "('Alloha', 'SP Routing', 'RFP', 3, 'Low', 1, 3, 'WiP', 1, 'Amer', 'AH', 'GVE', '=IFERROR(I5*G5,\"\")', None, None, None, None)\n",
      "('Alloha', 'SP Routing', 'RFP', 3, 'Low', 1, 3, 'WiP', 1, 'Amer', 'FQ', 'GVE', '=IFERROR(I6*G6,\"\")', None, None, None, None)\n",
      "('VAST', 'DWDM', 'RFP', 3, 'High', 3, 9, 'WiP', 1, 'Amer', 'AH', 'GVE', '=IFERROR(I7*G7,\"\")', None, None, None, None)\n",
      "('Telecentro', 'BNG', 'RFP', 3, 'Low', 1, 3, 'CE Pending', 0.1, 'Amer', 'FQ', 'Field', '=IFERROR(I8*G8,\"\")', None, None, None, None)\n",
      "('EFE', 'Alameda - Chillan', 'RFI', 3, 'Low', 1, 3, 'CE Pending', 0.1, 'Amer', 'AH', 'Field', '=IFERROR(I9*G9,\"\")', None, None, None, None)\n",
      "('EFE', 'Alameda - Chillan', 'RFP', 3, 'Low', 1, 3, 'CE Pending', 0.1, 'Amer', 'FQ', 'Field', '=IFERROR(I10*G10,\"\")', None, None, None, None)\n",
      "('EFE', 'Proyectos 2024', 'RFP', 3, 'Low', 1, 3, 'WiP', 1, 'Amer', 'AH', 'Field', '=IFERROR(I11*G11,\"\")', None, None, None, None)\n",
      "('EFE', 'Proyectos 2024', 'RFP', 3, 'Low', 1, 3, 'WiP', 1, 'Amer', 'FQ', 'Field', '=IFERROR(I12*G12,\"\")', None, None, None, None)\n",
      "('CEMIG', 'DWDM / RON', 'RFP', 3, 'Medium', 2, 6, 'WiP', 1, 'Amer', 'AH', 'Field', '=IFERROR(I13*G13,\"\")', None, None, None, None)\n",
      "('CEMIG', 'DWDM / RON', 'RFP', 3, 'Medium', 2, 6, 'WiP', 1, 'Amer', 'FQ', 'Field', '=IFERROR(I14*G14,\"\")', None, None, None, None)\n",
      "('Telecable', 'MPLS Core', 'GVS Support', 1, 'Medium', 2, 2, 'WiP', 1, 'Amer', 'AH', 'GVE', '=IFERROR(I15*G15,\"\")', None, None, None, None)\n",
      "('Telecable', 'MPLS Core', 'Advanced Engagement', 2, 'Medium', 2, 4, 'WiP', 1, 'Amer', 'FQ', 'GVE', '=IFERROR(I16*G16,\"\")', None, None, None, None)\n",
      "('ITV-3', 'TAC exception', 'GVS Support', 1, 'Low', 1, 1, 'CE Pending', 0.1, 'Amer', 'AH', 'GVE', '=IFERROR(I17*G17,\"\")', None, None, None, None)\n",
      "('3RED8', 'Optical NCS1010 new Network', 'GVS Support', 1, 'Low', 1, 1, 'CE Pending', 0.1, 'Amer', 'AH', 'GVE', '=IFERROR(I18*G18,\"\")', None, None, None, None)\n",
      "('INTER Venezuela', 'Optical Network Expansion', 'GVS Support', 1, 'Medium', 2, 2, 'WiP', 1, 'Amer', 'AH', 'GVE', '=IFERROR(I19*G19,\"\")', None, None, None, None)\n",
      "('Puntonet ', 'Optical Network Design files update', 'Complex Design ', 2, 'Medium', 2, 4, 'WiP', 1, 'Amer', 'AH', 'Field', '=IFERROR(I20*G20,\"\")', None, None, None, None)\n",
      "('Archtop ', 'New Solution', 'Complex Design ', 2, 'Medium', 2, 4, 'WiP', 1, 'Amer', 'AH', 'GVE', '=IFERROR(I21*G21,\"\")', None, None, None, None)\n",
      "('Archtop ', 'New Solution', 'Complex Design ', 2, 'Medium', 2, 4, 'WiP', 1, 'Amer', 'FQ', 'GVE', '=IFERROR(I22*G22,\"\")', None, None, None, None)\n",
      "('Telesur', 'IP MPLS Core refresh', 'Advanced Engagement', 2, 'Low', 1, 2, 'WiP', 1, 'Amer', 'FQ', 'GVE', '=IFERROR(I23*G23,\"\")', None, None, None, None)\n",
      "('Amplia', 'SP Solution', 'GVS Support', 1, 'Medium', 2, 2, 'WiP', 1, 'Amer', 'FQ', 'GVE', '=IFERROR(I24*G24,\"\")', None, None, None, None)\n",
      "(None, None, None, '=IFERROR(VLOOKUP(C25,#REF!,2,FALSE),\"\")', None, '=IFERROR(VLOOKUP(E25,#REF!,2,FALSE),\"\")', '=IFERROR(D25*F25,\"\")', None, '=IFERROR(VLOOKUP(H25,#REF!,2,FALSE),\"\")', None, None, None, '=IFERROR(I25*G25,\"\")', None, None, None, None)\n",
      "(None, None, None, '=IFERROR(VLOOKUP(C26,#REF!,2,FALSE),\"\")', None, '=IFERROR(VLOOKUP(E26,#REF!,2,FALSE),\"\")', '=IFERROR(D26*F26,\"\")', None, '=IFERROR(VLOOKUP(H26,#REF!,2,FALSE),\"\")', None, None, None, '=IFERROR(I26*G26,\"\")', None, None, None, None)\n",
      "(None, None, None, '=IFERROR(VLOOKUP(C27,#REF!,2,FALSE),\"\")', None, '=IFERROR(VLOOKUP(E27,#REF!,2,FALSE),\"\")', '=IFERROR(D27*F27,\"\")', None, '=IFERROR(VLOOKUP(H27,#REF!,2,FALSE),\"\")', None, None, None, '=IFERROR(I27*G27,\"\")', None, None, None, None)\n",
      "(None, None, None, '=IFERROR(VLOOKUP(C28,#REF!,2,FALSE),\"\")', None, '=IFERROR(VLOOKUP(E28,#REF!,2,FALSE),\"\")', '=IFERROR(D28*F28,\"\")', None, '=IFERROR(VLOOKUP(H28,#REF!,2,FALSE),\"\")', None, None, None, '=IFERROR(I28*G28,\"\")', None, None, None, None)\n",
      "(None, None, None, '=IFERROR(VLOOKUP(C29,#REF!,2,FALSE),\"\")', None, '=IFERROR(VLOOKUP(E29,#REF!,2,FALSE),\"\")', '=IFERROR(D29*F29,\"\")', None, '=IFERROR(VLOOKUP(H29,#REF!,2,FALSE),\"\")', None, None, None, '=IFERROR(I29*G29,\"\")', None, None, None, None)\n",
      "(None, None, None, '=IFERROR(VLOOKUP(C30,#REF!,2,FALSE),\"\")', None, '=IFERROR(VLOOKUP(E30,#REF!,2,FALSE),\"\")', '=IFERROR(D30*F30,\"\")', None, '=IFERROR(VLOOKUP(H30,#REF!,2,FALSE),\"\")', None, None, None, '=IFERROR(I30*G30,\"\")', None, None, None, None)\n",
      "(None, None, None, '=IFERROR(VLOOKUP(C31,#REF!,2,FALSE),\"\")', None, '=IFERROR(VLOOKUP(E31,#REF!,2,FALSE),\"\")', '=IFERROR(D31*F31,\"\")', None, '=IFERROR(VLOOKUP(H31,#REF!,2,FALSE),\"\")', None, None, None, '=IFERROR(I31*G31,\"\")', None, None, None, None)\n",
      "(None, None, None, '=IFERROR(VLOOKUP(C32,#REF!,2,FALSE),\"\")', None, '=IFERROR(VLOOKUP(E32,#REF!,2,FALSE),\"\")', '=IFERROR(D32*F32,\"\")', None, '=IFERROR(VLOOKUP(H32,#REF!,2,FALSE),\"\")', None, None, None, '=IFERROR(I32*G32,\"\")', None, None, None, None)\n",
      "(None, None, None, '=IFERROR(VLOOKUP(C33,#REF!,2,FALSE),\"\")', None, '=IFERROR(VLOOKUP(E33,#REF!,2,FALSE),\"\")', '=IFERROR(D33*F33,\"\")', None, '=IFERROR(VLOOKUP(H33,#REF!,2,FALSE),\"\")', None, None, None, None, None, None, None, None)\n",
      "(None, None, None, None, None, '=IFERROR(VLOOKUP(E34,#REF!,2,FALSE),\"\")', '=IFERROR(D34*F34,\"\")', None, '=IFERROR(VLOOKUP(H34,#REF!,2,FALSE),\"\")', None, None, None, None, None, None, None, None)\n",
      "(None, None, None, None, None, '=IFERROR(VLOOKUP(E35,#REF!,2,FALSE),\"\")', '=IFERROR(D35*F35,\"\")', None, '=IFERROR(VLOOKUP(H35,#REF!,2,FALSE),\"\")', None, None, None, None, None, None, None, None)\n",
      "(None, None, None, None, None, '=IFERROR(VLOOKUP(E36,#REF!,2,FALSE),\"\")', '=IFERROR(D36*F36,\"\")', None, '=IFERROR(VLOOKUP(H36,#REF!,2,FALSE),\"\")', None, None, None, None, None, None, None, None)\n",
      "(None, None, None, None, None, '=IFERROR(VLOOKUP(E37,#REF!,2,FALSE),\"\")', '=IFERROR(D37*F37,\"\")', None, '=IFERROR(VLOOKUP(H37,#REF!,2,FALSE),\"\")', None, None, None, None, None, None, None, None)\n",
      "(None, None, None, None, None, '=IFERROR(VLOOKUP(E38,#REF!,2,FALSE),\"\")', '=IFERROR(D38*F38,\"\")', None, '=IFERROR(VLOOKUP(H38,#REF!,2,FALSE),\"\")', None, None, None, None, None, None, None, None)\n",
      "(None, None, None, None, None, '=IFERROR(VLOOKUP(E39,#REF!,2,FALSE),\"\")', '=IFERROR(D39*F39,\"\")', None, '=IFERROR(VLOOKUP(H39,#REF!,2,FALSE),\"\")', None, None, None, None, None, None, None, None)\n",
      "(None, None, None, None, None, '=IFERROR(VLOOKUP(E40,#REF!,2,FALSE),\"\")', '=IFERROR(D40*F40,\"\")', None, '=IFERROR(VLOOKUP(H40,#REF!,2,FALSE),\"\")', None, None, None, None, None, None, None, None)\n",
      "(None, None, None, None, None, '=IFERROR(VLOOKUP(E41,#REF!,2,FALSE),\"\")', '=IFERROR(D41*F41,\"\")', None, '=IFERROR(VLOOKUP(H41,#REF!,2,FALSE),\"\")', None, None, None, None, None, None, None, None)\n",
      "(None, None, None, None, None, '=IFERROR(VLOOKUP(E42,#REF!,2,FALSE),\"\")', '=IFERROR(D42*F42,\"\")', None, '=IFERROR(VLOOKUP(H42,#REF!,2,FALSE),\"\")', None, None, None, None, None, None, None, None)\n",
      "(None, None, None, None, None, None, '=IFERROR(D43*F43,\"\")', None, '=IFERROR(VLOOKUP(H43,#REF!,2,FALSE),\"\")', None, None, None, None, None, None, None, None)\n",
      "(None, None, None, None, None, None, '=IFERROR(D44*F44,\"\")', None, None, None, None, None, None, None, None, None, None)\n",
      "(None, None, None, None, None, None, None, None, None, None, None, None, None, None, None, None, None)\n",
      "(None, None, None, None, None, None, None, None, None, None, None, None, None, None, None, None, None)\n",
      "(None, None, None, None, None, None, None, None, None, None, None, None, None, None, None, None, None)\n",
      "(None, None, None, None, None, None, None, None, None, None, None, None, None, None, None, None, None)\n",
      "(None, None, None, None, None, None, None, None, None, None, None, None, None, None, None, None, None)\n",
      "(None, None, None, None, None, None, None, None, None, None, None, None, None, None, None, None, None)\n",
      "(None, None, None, None, None, None, None, None, None, None, None, None, None, None, None, None, None)\n",
      "(None, None, None, None, None, None, None, None, None, None, None, None, None, None, None, None, None)\n",
      "(None, None, None, None, None, None, None, None, None, None, None, None, None, None, None, None, None)\n",
      "(None, None, None, None, None, None, None, None, None, None, None, None, None, None, None, None, None)\n",
      "(None, None, None, None, None, None, None, None, None, None, None, None, None, None, None, None, None)\n",
      "('cus1', 'pro1', 'RFI', 3, 'Medium', 2, 6, 'WiP', 1, 'AMER', 'FQ', 'GVE', 6, None, None, None, None)\n",
      "('cus1', 'pro1', 'RFI', 3, 'Medium', 2, 6, 'WiP', 1, 'AMER', 'FQ', 'GVE', 6, None, None, None, None)\n",
      "ok se actualizo excel ['cus1', 'pro1', 'RFI', 3, 'Medium', 2, 6, 'WiP', 1, 'AMER', 'FQ', 'GVE', 6]\n"
     ]
    }
   ],
   "source": [
    "\n",
    "from excel_db import *\n",
    "new_data = {'customer': 'cus1', 'project': 'pro1', 'category': 'RFI', 'cat_effort': 3, 'complexity': 'Medium', 'com_effort': 2, 'effort': 6, 'status': 'WiP', 'status_effort': 1, 'region': 'AMER', 'tsa': 'FQ', 'user': 'GVE', 'total_hrs': 6}\n",
    "\n",
    "\n",
    "print(update_excel(new_data))\n",
    "\n"
   ]
  }
 ],
 "metadata": {
  "kernelspec": {
   "display_name": "env",
   "language": "python",
   "name": "python3"
  },
  "language_info": {
   "codemirror_mode": {
    "name": "ipython",
    "version": 3
   },
   "file_extension": ".py",
   "mimetype": "text/x-python",
   "name": "python",
   "nbconvert_exporter": "python",
   "pygments_lexer": "ipython3",
   "version": "3.12.0"
  }
 },
 "nbformat": 4,
 "nbformat_minor": 2
}
