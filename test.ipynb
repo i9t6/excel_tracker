{
 "cells": [
  {
   "cell_type": "code",
   "execution_count": null,
   "metadata": {},
   "outputs": [],
   "source": [
    "from excel_db import *\n",
    "\n",
    "new = add_gve_record(sample)\n",
    "\n",
    "print(new)"
   ]
  },
  {
   "cell_type": "code",
   "execution_count": null,
   "metadata": {},
   "outputs": [],
   "source": [
    "\n",
    "from excel_db import *\n",
    "new_data = {'customer': 'cus1', 'project': 'pro1', 'category': 'RFI', 'cat_effort': 3, 'complexity': 'Medium', 'com_effort': 2, 'effort': 6, 'status': 'WiP', 'status_effort': 1, 'region': 'AMER', 'tsa': 'FQ', 'user': 'GVE', 'total_hrs': 6}\n",
    "\n",
    "print(update_excel(new_data))\n"
   ]
  },
  {
   "cell_type": "code",
   "execution_count": 1,
   "metadata": {},
   "outputs": [
    {
     "name": "stdout",
     "output_type": "stream",
     "text": [
      "Son 36 y 37\n"
     ]
    }
   ],
   "source": [
    "from excel_db import *\n",
    "a , b = get_last_and_next_id()\n",
    "print(f\"\"\"Son {a} y {b}\"\"\")"
   ]
  },
  {
   "cell_type": "code",
   "execution_count": 2,
   "metadata": {},
   "outputs": [
    {
     "name": "stdout",
     "output_type": "stream",
     "text": [
      "[{'ID': 2, 'Customer': 'Scale', 'Project': 'P1', 'Category': 'Scale', 'Complexity': None, 'Status': 'WiP'}, {'ID': 5, 'Customer': 'Alloha', 'Project': 'P2', 'Category': 'RFP', 'Complexity': 'Low', 'Status': 'WiP'}, {'ID': 7, 'Customer': 'Telecentro', 'Project': 'P3', 'Category': 'RFP', 'Complexity': 'Low', 'Status': 'CE Pending'}, {'ID': 9, 'Customer': 'EFE', 'Project': 'P4', 'Category': 'RFP', 'Complexity': 'Low', 'Status': 'CE Pending'}, {'ID': 11, 'Customer': 'EFE', 'Project': 'P5', 'Category': 'RFP', 'Complexity': 'Low', 'Status': 'WiP'}, {'ID': 13, 'Customer': 'CEMIG', 'Project': 'P6', 'Category': 'RFP', 'Complexity': 'Medium', 'Status': 'WiP'}, {'ID': 15, 'Customer': 'Telecable', 'Project': 'MPLS Core', 'Category': 'Advanced Engagement', 'Complexity': 'Medium', 'Status': 'WiP'}, {'ID': 21, 'Customer': 'Archtop ', 'Project': 'New Solution', 'Category': 'Complex Design ', 'Complexity': 'Medium', 'Status': 'WiP'}, {'ID': 22, 'Customer': 'Telesur', 'Project': 'IP MPLS Core refresh', 'Category': 'Advanced Engagement', 'Complexity': 'Low', 'Status': 'WiP'}, {'ID': 23, 'Customer': 'Amplia', 'Project': 'SP Solution', 'Category': 'GVS Support', 'Complexity': 'Medium', 'Status': 'WiP'}, {'ID': 27, 'Customer': 'k', 'Project': 'k', 'Category': 'RFP', 'Complexity': 'High', 'Status': 'WiP'}, {'ID': 29, 'Customer': '5', 'Project': '5', 'Category': 'RFP', 'Complexity': 'High', 'Status': 'WiP'}, {'ID': 30, 'Customer': 'q', 'Project': 'w', 'Category': 'RFP', 'Complexity': 'Medium', 'Status': 'CE Pending'}, {'ID': 31, 'Customer': 'ww', 'Project': 'ww', 'Category': 'RFP', 'Complexity': 'High', 'Status': 'CE Pending'}, {'ID': 36, 'Customer': 'no nuevo', 'Project': 'no nuevo', 'Category': 'Complex Design', 'Complexity': 'Medium', 'Status': 'CE Pending'}, {'ID': 38, 'Customer': '88', 'Project': '88', 'Category': 'Complex Design', 'Complexity': 'Low', 'Status': 'Close'}]\n"
     ]
    }
   ],
   "source": [
    "from excel_db import *\n",
    "print(find_matching_rows_by_email('frquiroz@cisco.com'))"
   ]
  },
  {
   "cell_type": "code",
   "execution_count": 7,
   "metadata": {},
   "outputs": [
    {
     "name": "stdout",
     "output_type": "stream",
     "text": [
      "[   {\"type\": \"TextBlock\",\"text\": \"GVE SP Tracker (beta)\",\"size\": \"Medium\",\"color\": \"Dark\"/},\n",
      "    {\"type\": \"TextBlock\",\"text\": \"Customer Name: Customer1\", \"size\": \"Medium\",\"color\": \"Dark\"},\n",
      "    {\"type\": \"TextBlock\",\"text\": \"Project: project1\", \"size\": \"Medium\",\"color\": \"Dark\"},\n",
      "    {\"type\": \"TextBlock\",\"text\": \"Category: RFP\", \"size\": \"Medium\",\"color\": \"Dark\"},\n",
      "    {\"type\": \"Input.ChoiceSet\",\n",
      "                    \"choices\": [\n",
      "                        {\n",
      "                            \"title\": \"High\",\n",
      "                            \"value\": \"High\"\n",
      "                        },\n",
      "                        {\n",
      "                            \"title\": \"Medium\",\n",
      "                            \"value\": \"Medium\"\n",
      "                        },\n",
      "                        {\n",
      "                            \"title\": \"Low\",\n",
      "                            \"value\": \"Low\"\n",
      "                        }\n",
      "                    ],\n",
      "                    \"placeholder\": \"Estimated complexity\",\n",
      "                    \"id\": \"complexity\",\n",
      "                    \"value\": \"Low\"\n",
      "                },\n",
      "                {\n",
      "                    \"type\": \"Input.ChoiceSet\",\n",
      "                    \"choices\": [\n",
      "                        {\n",
      "                            \"title\": \"WiP\",\n",
      "                            \"value\": \"WiP\"\n",
      "                        },\n",
      "                        {\n",
      "                            \"title\": \"CE Pending\",\n",
      "                            \"value\": \"CE Pending\"\n",
      "                        },\n",
      "                        {\n",
      "                            \"title\": \"Close\",\n",
      "                            \"value\": \"Close\"\n",
      "                        }\n",
      "                    ],\n",
      "                    \"placeholder\": \"Status\",\n",
      "                    \"id\": \"status\",\n",
      "                    \"value\": \"WiP\"\n",
      "                },     \n",
      "            ]\n"
     ]
    }
   ],
   "source": [
    "record_Customer = \"Customer1\"\n",
    "record_Project = \"project1\"\n",
    "record_Category = \"RFP\"\n",
    "record_Complexity = \"Low\"\n",
    "record_Status = \"WiP\"\n",
    "\n",
    "new_body= f\"\"\"[   {{\"type\": \"TextBlock\",\"text\": \"GVE SP Tracker (beta)\",\"size\": \"Medium\",\"color\": \"Dark\"/}},\n",
    "    {{\"type\": \"TextBlock\",\"text\": \"Customer Name: {record_Customer}\", \"size\": \"Medium\",\"color\": \"Dark\"}},\n",
    "    {{\"type\": \"TextBlock\",\"text\": \"Project: {record_Project}\", \"size\": \"Medium\",\"color\": \"Dark\"}},\n",
    "    {{\"type\": \"TextBlock\",\"text\": \"Category: {record_Category}\", \"size\": \"Medium\",\"color\": \"Dark\"}},\n",
    "    {{\"type\": \"Input.ChoiceSet\",\n",
    "                    \"choices\": [\n",
    "                        {{\n",
    "                            \"title\": \"High\",\n",
    "                            \"value\": \"High\"\n",
    "                        }},\n",
    "                        {{\n",
    "                            \"title\": \"Medium\",\n",
    "                            \"value\": \"Medium\"\n",
    "                        }},\n",
    "                        {{\n",
    "                            \"title\": \"Low\",\n",
    "                            \"value\": \"Low\"\n",
    "                        }}\n",
    "                    ],\n",
    "                    \"placeholder\": \"Estimated complexity\",\n",
    "                    \"id\": \"complexity\",\n",
    "                    \"value\": \"{record_Complexity}\"\n",
    "                }},\n",
    "                {{\n",
    "                    \"type\": \"Input.ChoiceSet\",\n",
    "                    \"choices\": [\n",
    "                        {{\n",
    "                            \"title\": \"WiP\",\n",
    "                            \"value\": \"WiP\"\n",
    "                        }},\n",
    "                        {{\n",
    "                            \"title\": \"CE Pending\",\n",
    "                            \"value\": \"CE Pending\"\n",
    "                        }},\n",
    "                        {{\n",
    "                            \"title\": \"Close\",\n",
    "                            \"value\": \"Close\"\n",
    "                        }}\n",
    "                    ],\n",
    "                    \"placeholder\": \"Status\",\n",
    "                    \"id\": \"status\",\n",
    "                    \"value\": \"{record_Status}\"\n",
    "                }},     \n",
    "            ]\"\"\"\n",
    "print(new_body)"
   ]
  }
 ],
 "metadata": {
  "kernelspec": {
   "display_name": "env",
   "language": "python",
   "name": "python3"
  },
  "language_info": {
   "codemirror_mode": {
    "name": "ipython",
    "version": 3
   },
   "file_extension": ".py",
   "mimetype": "text/x-python",
   "name": "python",
   "nbconvert_exporter": "python",
   "pygments_lexer": "ipython3",
   "version": "3.12.0"
  }
 },
 "nbformat": 4,
 "nbformat_minor": 2
}
